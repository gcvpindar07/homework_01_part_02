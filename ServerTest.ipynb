{
 "cells": [
  {
   "cell_type": "code",
   "execution_count": 1,
   "metadata": {},
   "outputs": [],
   "source": [
    "from requests import post, get"
   ]
  },
  {
   "cell_type": "code",
   "execution_count": 2,
   "metadata": {},
   "outputs": [],
   "source": [
    "import json\n",
    "from requests import post, get\n",
    "\n",
    "def test_server(is_docker: bool=False):\n",
    "    if is_docker:\n",
    "        port = 8000\n",
    "    else:\n",
    "        port = 8001 # When Using Flask Test Server\n",
    "    url = f\"http://127.0.0.1:{port}\"\n",
    "    \n",
    "    # Checking Heartbeat\n",
    "    print(\"Checking Heartbeat from System:\")\n",
    "    print(\"===============================\")\n",
    "    uri = f\"{url}/heartbeat\"\n",
    "    resp = get(uri)\n",
    "    if resp.status_code == 200:\n",
    "        print(resp.json())\n",
    "    else:\n",
    "        print(f\"Returned Status Code: {resp.status_code}\\nError With Server\")\n",
    "        \n",
    "    print(\"Checking Sum from System:\")\n",
    "    print(\"===============================\")\n",
    "    uri = f\"{url}/sum\"\n",
    "    data = {\"x\": 10, \"y\": 12}\n",
    "    jdump = json.dumps(data)\n",
    "    print(jdump)\n",
    "    resp = post(\n",
    "        uri,\n",
    "        json=data\n",
    "    )\n",
    "    \n",
    "    if resp.status_code == 200:\n",
    "        print(resp.json())\n",
    "    else:\n",
    "        print(f\"Returned Status Code: {resp.status_code}\\nError With Server\")\n",
    "    \n",
    "    print(\"Checking Minimum from System:\")\n",
    "    print(\"===============================\")\n",
    "    uri = f\"{url}/minimum\"\n",
    "    data = {'values': [1,5,3,2]}\n",
    "    jdump = json.dumps(data)\n",
    "    print(jdump)\n",
    "    resp = post(\n",
    "        uri,\n",
    "        json=data\n",
    "    )\n",
    "    if resp.status_code == 200:\n",
    "        print(resp.json())\n",
    "    else:\n",
    "        print(f\"Returned Status Code: {resp.status_code}\\nError With Server\")\n",
    "    \n",
    "    \n",
    "    print(\"Checking Product from System:\")\n",
    "    print(\"===============================\")\n",
    "    uri = f\"{url}/product\"\n",
    "    data = {'values': [1,5,3,2]}\n",
    "    jdump = json.dumps(data)\n",
    "    print(jdump)\n",
    "    resp = post(\n",
    "        uri,\n",
    "        json=data\n",
    "    )\n",
    "    if resp.status_code == 200:\n",
    "        print(resp.json())\n",
    "    else:\n",
    "        print(f\"Returned Status Code: {resp.status_code}\\nError With Server\")\n",
    "    \n",
    "    "
   ]
  },
  {
   "cell_type": "code",
   "execution_count": 5,
   "metadata": {},
   "outputs": [
    {
     "name": "stdout",
     "output_type": "stream",
     "text": [
      "Checking Heartbeat from System:\n",
      "===============================\n",
      "{'status': True, 'service': 'Homework_Template', 'datetime': '2019-09-23 23:48:22.841723'}\n",
      "Checking Sum from System:\n",
      "===============================\n",
      "{\"x\": 10, \"y\": 12}\n",
      "{'result': 22}\n",
      "Checking Minimum from System:\n",
      "===============================\n",
      "{\"values\": [1, 5, 3, 2]}\n",
      "{'result': 1}\n",
      "Checking Product from System:\n",
      "===============================\n",
      "{\"values\": [1, 5, 3, 2]}\n",
      "{'result': 30}\n"
     ]
    }
   ],
   "source": [
    "test_server(True)"
   ]
  },
  {
   "cell_type": "code",
   "execution_count": null,
   "metadata": {},
   "outputs": [],
   "source": []
  }
 ],
 "metadata": {
  "kernelspec": {
   "display_name": "Python 3",
   "language": "python",
   "name": "python3"
  },
  "language_info": {
   "codemirror_mode": {
    "name": "ipython",
    "version": 3
   },
   "file_extension": ".py",
   "mimetype": "text/x-python",
   "name": "python",
   "nbconvert_exporter": "python",
   "pygments_lexer": "ipython3",
   "version": "3.6.5"
  }
 },
 "nbformat": 4,
 "nbformat_minor": 4
}
